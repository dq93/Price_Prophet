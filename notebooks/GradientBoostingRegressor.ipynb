{
 "cells": [
  {
   "cell_type": "markdown",
   "metadata": {},
   "source": [
    "# Gradient Boosting Regressor"
   ]
  },
  {
   "cell_type": "code",
   "execution_count": 1,
   "metadata": {},
   "outputs": [],
   "source": [
    "import pandas as pd\n",
    "\n",
    "trainDF = pd.read_csv('../data/filtered/processedData.csv')"
   ]
  },
  {
   "cell_type": "code",
   "execution_count": 2,
   "metadata": {},
   "outputs": [],
   "source": [
    "from sklearn.model_selection import train_test_split, RandomizedSearchCV\n",
    "import numpy as np\n",
    "\n",
    "\n",
    "df = trainDF.dropna(subset=['SalePrice'])\n",
    "df['SalePrice'] = np.log1p(df['SalePrice'])\n",
    "\n",
    "# split features and target\n",
    "X = df.drop(columns='SalePrice')\n",
    "y = df['SalePrice']\n",
    "\n",
    "# split into training and validation sets\n",
    "X_train, X_val, y_train, y_val = train_test_split(X, y, test_size=0.2, random_state=42)\n",
    "\n",
    "# identify categorical columns\n",
    "cat_cols = X_train.select_dtypes(include=['object', 'category']).columns\n",
    "\n",
    "# fill NaNs in categorical columns with 'N/A'\n",
    "X_train[cat_cols] = X_train[cat_cols].fillna('N/A')\n",
    "X_val[cat_cols] = X_val[cat_cols].fillna('N/A')\n",
    "\n",
    "# apply one-hot encoding\n",
    "X_train_encoded = pd.get_dummies(X_train, drop_first=True)\n",
    "X_val_encoded = pd.get_dummies(X_val, drop_first=True)\n",
    "\n",
    "# align columns between training and validation data\n",
    "X_val_encoded = X_val_encoded.reindex(columns=X_train_encoded.columns, fill_value=0)"
   ]
  },
  {
   "cell_type": "code",
   "execution_count": 3,
   "metadata": {},
   "outputs": [
    {
     "name": "stdout",
     "output_type": "stream",
     "text": [
      "Validation RMSE (log-scale): 0.1388\n",
      "Validation RMSE (log-reversed): 30,790.01\n"
     ]
    }
   ],
   "source": [
    "from sklearn.ensemble import GradientBoostingRegressor\n",
    "from sklearn.metrics import mean_squared_error\n",
    "\n",
    "# initialize the model\n",
    "gb_model = GradientBoostingRegressor(random_state=42)\n",
    "\n",
    "# fit the model on training data\n",
    "gb_model.fit(X_train_encoded, y_train)\n",
    "\n",
    "# predict on validation data\n",
    "val_preds_log = gb_model.predict(X_val_encoded)\n",
    "\n",
    "# evaluate using RMSE on log scale\n",
    "val_rmse_log = np.sqrt(mean_squared_error(y_val, val_preds_log))\n",
    "print(f'Validation RMSE (log-scale): {val_rmse_log:.4f}')\n",
    "\n",
    "# convert predictions back from log scale and compute real RMSE\n",
    "val_preds_actual = np.expm1(val_preds_log)\n",
    "y_val_actual = np.expm1(y_val)\n",
    "\n",
    "# RMSE on the actual scale (log-reversed)\n",
    "val_rmse_actual = np.sqrt(mean_squared_error(y_val_actual, val_preds_actual))\n",
    "print(f'Validation RMSE (log-reversed): {val_rmse_actual:,.2f}')"
   ]
  },
  {
   "cell_type": "markdown",
   "metadata": {},
   "source": [
    "This model would be off target by about 30,790.01 USD. Now let's see how it does after hyperparameter tuning."
   ]
  },
  {
   "cell_type": "markdown",
   "metadata": {},
   "source": [
    "# Gradient Boosting with HyperParameter Tuning"
   ]
  },
  {
   "cell_type": "code",
   "execution_count": 4,
   "metadata": {},
   "outputs": [],
   "source": [
    "param_dist = {\n",
    "    'n_estimators': [100, 200, 300, 400, 500],\n",
    "    'max_depth': [3, 5, 10, 20, 30, 40],\n",
    "    'learning_rate': [0.01, 0.05, 0.1, 0.2],\n",
    "    'subsample': [0.8, 0.9, 1.0],\n",
    "    'max_features': ['sqrt', 'log2']\n",
    "}\n",
    "\n",
    "# initialize RandomizedSearchCV\n",
    "random_search = RandomizedSearchCV(\n",
    "    estimator=gb_model,\n",
    "    param_distributions=param_dist,\n",
    "    n_iter=20,  # Adjust n_iter to control the number of iterations\n",
    "    cv=5,       # 5-fold cross-validation\n",
    "    verbose=2,  # Print progress\n",
    "    n_jobs=-1,  # Use all cores\n",
    "    random_state=42\n",
    ")\n"
   ]
  },
  {
   "cell_type": "code",
   "execution_count": 5,
   "metadata": {},
   "outputs": [
    {
     "name": "stdout",
     "output_type": "stream",
     "text": [
      "Fitting 5 folds for each of 20 candidates, totalling 100 fits\n"
     ]
    },
    {
     "name": "stdout",
     "output_type": "stream",
     "text": [
      "[CV] END learning_rate=0.05, max_depth=20, max_features=log2, n_estimators=200, subsample=1.0; total time=   0.5s\n",
      "[CV] END learning_rate=0.05, max_depth=20, max_features=log2, n_estimators=200, subsample=1.0; total time=   0.5s\n",
      "[CV] END learning_rate=0.05, max_depth=20, max_features=log2, n_estimators=200, subsample=1.0; total time=   0.5s\n",
      "[CV] END learning_rate=0.05, max_depth=40, max_features=sqrt, n_estimators=400, subsample=0.9; total time=   1.4s\n",
      "[CV] END learning_rate=0.01, max_depth=5, max_features=log2, n_estimators=400, subsample=0.8; total time=   0.3s\n",
      "[CV] END learning_rate=0.05, max_depth=20, max_features=log2, n_estimators=200, subsample=1.0; total time=   0.4s\n",
      "[CV] END learning_rate=0.05, max_depth=20, max_features=log2, n_estimators=200, subsample=1.0; total time=   0.4s\n",
      "[CV] END learning_rate=0.05, max_depth=40, max_features=sqrt, n_estimators=400, subsample=0.9; total time=   1.3s\n",
      "[CV] END learning_rate=0.05, max_depth=40, max_features=sqrt, n_estimators=400, subsample=0.9; total time=   1.3s\n",
      "[CV] END learning_rate=0.01, max_depth=5, max_features=log2, n_estimators=400, subsample=0.8; total time=   0.2s\n",
      "[CV] END learning_rate=0.05, max_depth=3, max_features=log2, n_estimators=200, subsample=0.8; total time=   0.1s\n",
      "[CV] END learning_rate=0.01, max_depth=5, max_features=log2, n_estimators=400, subsample=0.8; total time=   0.4s\n",
      "[CV] END learning_rate=0.05, max_depth=40, max_features=sqrt, n_estimators=400, subsample=0.9; total time=   1.2s\n",
      "[CV] END learning_rate=0.01, max_depth=5, max_features=log2, n_estimators=400, subsample=0.8; total time=   0.2s\n",
      "[CV] END learning_rate=0.05, max_depth=3, max_features=log2, n_estimators=200, subsample=0.8; total time=   0.1s\n",
      "[CV] END learning_rate=0.05, max_depth=3, max_features=log2, n_estimators=200, subsample=0.8; total time=   0.1s\n",
      "[CV] END learning_rate=0.05, max_depth=3, max_features=log2, n_estimators=200, subsample=0.8; total time=   0.1s\n",
      "[CV] END learning_rate=0.05, max_depth=3, max_features=log2, n_estimators=200, subsample=0.8; total time=   0.1s\n",
      "[CV] END learning_rate=0.01, max_depth=5, max_features=log2, n_estimators=400, subsample=0.8; total time=   0.3s\n",
      "[CV] END learning_rate=0.05, max_depth=40, max_features=sqrt, n_estimators=400, subsample=0.9; total time=   1.5s\n",
      "[CV] END learning_rate=0.01, max_depth=10, max_features=sqrt, n_estimators=200, subsample=1.0; total time=   0.4s\n",
      "[CV] END learning_rate=0.1, max_depth=20, max_features=sqrt, n_estimators=200, subsample=0.8; total time=   0.5s\n",
      "[CV] END learning_rate=0.01, max_depth=10, max_features=sqrt, n_estimators=200, subsample=1.0; total time=   0.4s\n",
      "[CV] END learning_rate=0.1, max_depth=20, max_features=sqrt, n_estimators=200, subsample=0.8; total time=   0.6s\n",
      "[CV] END learning_rate=0.01, max_depth=10, max_features=sqrt, n_estimators=200, subsample=1.0; total time=   0.4s\n",
      "[CV] END learning_rate=0.1, max_depth=20, max_features=sqrt, n_estimators=200, subsample=0.8; total time=   0.6s\n",
      "[CV] END learning_rate=0.1, max_depth=20, max_features=sqrt, n_estimators=200, subsample=0.8; total time=   0.7s\n",
      "[CV] END learning_rate=0.1, max_depth=20, max_features=sqrt, n_estimators=200, subsample=0.8; total time=   0.6s\n",
      "[CV] END learning_rate=0.01, max_depth=10, max_features=sqrt, n_estimators=200, subsample=1.0; total time=   0.4s\n",
      "[CV] END learning_rate=0.01, max_depth=10, max_features=sqrt, n_estimators=200, subsample=0.8; total time=   0.4s\n",
      "[CV] END learning_rate=0.01, max_depth=10, max_features=sqrt, n_estimators=200, subsample=1.0; total time=   0.5s\n",
      "[CV] END learning_rate=0.01, max_depth=10, max_features=sqrt, n_estimators=200, subsample=0.8; total time=   0.4s\n",
      "[CV] END learning_rate=0.01, max_depth=10, max_features=sqrt, n_estimators=200, subsample=0.8; total time=   0.4s\n",
      "[CV] END learning_rate=0.01, max_depth=10, max_features=sqrt, n_estimators=200, subsample=0.8; total time=   0.4s\n",
      "[CV] END learning_rate=0.01, max_depth=10, max_features=sqrt, n_estimators=200, subsample=0.8; total time=   0.5s\n",
      "[CV] END learning_rate=0.01, max_depth=30, max_features=log2, n_estimators=400, subsample=0.9; total time=   0.9s\n",
      "[CV] END learning_rate=0.05, max_depth=20, max_features=log2, n_estimators=300, subsample=0.9; total time=   0.6s\n",
      "[CV] END learning_rate=0.05, max_depth=20, max_features=log2, n_estimators=300, subsample=0.9; total time=   0.6s\n",
      "[CV] END learning_rate=0.01, max_depth=30, max_features=log2, n_estimators=400, subsample=0.9; total time=   0.8s\n",
      "[CV] END learning_rate=0.05, max_depth=20, max_features=log2, n_estimators=300, subsample=0.9; total time=   0.6s\n",
      "[CV] END learning_rate=0.01, max_depth=30, max_features=log2, n_estimators=400, subsample=0.9; total time=   0.8s\n",
      "[CV] END learning_rate=0.01, max_depth=30, max_features=log2, n_estimators=400, subsample=0.9; total time=   0.7s\n",
      "[CV] END learning_rate=0.1, max_depth=5, max_features=sqrt, n_estimators=100, subsample=0.8; total time=   0.1s\n",
      "[CV] END learning_rate=0.01, max_depth=30, max_features=log2, n_estimators=400, subsample=0.9; total time=   0.9s\n",
      "[CV] END learning_rate=0.1, max_depth=5, max_features=sqrt, n_estimators=100, subsample=0.8; total time=   0.1s\n",
      "[CV] END learning_rate=0.1, max_depth=5, max_features=sqrt, n_estimators=100, subsample=0.8; total time=   0.1s\n",
      "[CV] END learning_rate=0.1, max_depth=5, max_features=sqrt, n_estimators=100, subsample=0.8; total time=   0.1s\n",
      "[CV] END learning_rate=0.1, max_depth=5, max_features=sqrt, n_estimators=100, subsample=0.8; total time=   0.1s\n",
      "[CV] END learning_rate=0.2, max_depth=40, max_features=log2, n_estimators=100, subsample=0.9; total time=   0.2s\n",
      "[CV] END learning_rate=0.2, max_depth=40, max_features=log2, n_estimators=100, subsample=0.9; total time=   0.2s[CV] END learning_rate=0.2, max_depth=40, max_features=log2, n_estimators=100, subsample=0.9; total time=   0.2s\n",
      "\n",
      "[CV] END learning_rate=0.2, max_depth=40, max_features=log2, n_estimators=100, subsample=0.9; total time=   0.2s\n",
      "[CV] END learning_rate=0.2, max_depth=40, max_features=log2, n_estimators=100, subsample=0.9; total time=   0.2s\n",
      "[CV] END learning_rate=0.05, max_depth=20, max_features=log2, n_estimators=300, subsample=0.9; total time=   0.5s\n",
      "[CV] END learning_rate=0.05, max_depth=20, max_features=log2, n_estimators=300, subsample=0.9; total time=   0.6s\n",
      "[CV] END learning_rate=0.01, max_depth=5, max_features=sqrt, n_estimators=400, subsample=0.8; total time=   0.4s\n",
      "[CV] END learning_rate=0.1, max_depth=10, max_features=log2, n_estimators=500, subsample=0.9; total time=   0.6s\n",
      "[CV] END learning_rate=0.01, max_depth=5, max_features=sqrt, n_estimators=400, subsample=0.8; total time=   0.4s\n",
      "[CV] END learning_rate=0.1, max_depth=10, max_features=log2, n_estimators=500, subsample=0.9; total time=   0.6s\n",
      "[CV] END learning_rate=0.1, max_depth=10, max_features=log2, n_estimators=500, subsample=0.9; total time=   0.6s\n",
      "[CV] END learning_rate=0.1, max_depth=10, max_features=log2, n_estimators=500, subsample=0.9; total time=   0.6s\n",
      "[CV] END learning_rate=0.01, max_depth=5, max_features=sqrt, n_estimators=400, subsample=0.8; total time=   0.4s\n",
      "[CV] END learning_rate=0.1, max_depth=10, max_features=log2, n_estimators=500, subsample=0.9; total time=   0.7s\n",
      "[CV] END learning_rate=0.01, max_depth=5, max_features=sqrt, n_estimators=400, subsample=0.8; total time=   0.5s\n",
      "[CV] END learning_rate=0.01, max_depth=5, max_features=sqrt, n_estimators=400, subsample=0.8; total time=   0.5s\n",
      "[CV] END learning_rate=0.1, max_depth=10, max_features=sqrt, n_estimators=400, subsample=0.9; total time=   0.8s\n",
      "[CV] END learning_rate=0.1, max_depth=10, max_features=sqrt, n_estimators=400, subsample=0.9; total time=   0.8s\n",
      "[CV] END learning_rate=0.1, max_depth=10, max_features=sqrt, n_estimators=400, subsample=0.9; total time=   0.8s\n",
      "[CV] END learning_rate=0.01, max_depth=20, max_features=sqrt, n_estimators=400, subsample=1.0; total time=   1.3s\n",
      "[CV] END learning_rate=0.01, max_depth=20, max_features=sqrt, n_estimators=400, subsample=1.0; total time=   1.3s\n",
      "[CV] END learning_rate=0.01, max_depth=20, max_features=sqrt, n_estimators=400, subsample=1.0; total time=   1.3s\n",
      "[CV] END learning_rate=0.01, max_depth=20, max_features=sqrt, n_estimators=400, subsample=1.0; total time=   1.4s\n",
      "[CV] END learning_rate=0.01, max_depth=20, max_features=sqrt, n_estimators=400, subsample=1.0; total time=   1.4s\n",
      "[CV] END learning_rate=0.1, max_depth=10, max_features=sqrt, n_estimators=400, subsample=0.9; total time=   0.7s\n",
      "[CV] END learning_rate=0.1, max_depth=10, max_features=sqrt, n_estimators=400, subsample=0.9; total time=   0.8s\n",
      "[CV] END learning_rate=0.01, max_depth=10, max_features=log2, n_estimators=400, subsample=1.0; total time=   0.6s\n",
      "[CV] END learning_rate=0.05, max_depth=30, max_features=log2, n_estimators=500, subsample=0.9; total time=   0.9s\n",
      "[CV] END learning_rate=0.05, max_depth=30, max_features=log2, n_estimators=500, subsample=0.9; total time=   0.9s\n",
      "[CV] END learning_rate=0.01, max_depth=10, max_features=log2, n_estimators=400, subsample=1.0; total time=   0.6s\n",
      "[CV] END learning_rate=0.05, max_depth=30, max_features=log2, n_estimators=500, subsample=0.9; total time=   1.0s\n",
      "[CV] END learning_rate=0.05, max_depth=30, max_features=log2, n_estimators=500, subsample=0.9; total time=   1.0s\n",
      "[CV] END learning_rate=0.05, max_depth=30, max_features=log2, n_estimators=500, subsample=0.9; total time=   1.0s\n",
      "[CV] END learning_rate=0.01, max_depth=10, max_features=log2, n_estimators=400, subsample=1.0; total time=   0.7s\n",
      "[CV] END learning_rate=0.01, max_depth=10, max_features=log2, n_estimators=400, subsample=1.0; total time=   0.7s\n",
      "[CV] END learning_rate=0.01, max_depth=10, max_features=log2, n_estimators=400, subsample=1.0; total time=   0.7s\n",
      "[CV] END learning_rate=0.2, max_depth=10, max_features=log2, n_estimators=500, subsample=0.8; total time=   0.7s\n",
      "[CV] END learning_rate=0.2, max_depth=10, max_features=log2, n_estimators=500, subsample=0.8; total time=   0.7s\n",
      "[CV] END learning_rate=0.2, max_depth=10, max_features=log2, n_estimators=500, subsample=0.8; total time=   0.7s\n",
      "[CV] END learning_rate=0.05, max_depth=10, max_features=log2, n_estimators=200, subsample=0.9; total time=   0.4s\n",
      "[CV] END learning_rate=0.2, max_depth=10, max_features=log2, n_estimators=500, subsample=0.8; total time=   0.7s\n",
      "[CV] END learning_rate=0.2, max_depth=10, max_features=log2, n_estimators=500, subsample=0.8; total time=   0.6s\n",
      "[CV] END learning_rate=0.05, max_depth=10, max_features=log2, n_estimators=200, subsample=0.9; total time=   0.3s\n",
      "[CV] END learning_rate=0.05, max_depth=10, max_features=log2, n_estimators=200, subsample=0.9; total time=   0.3s\n",
      "[CV] END learning_rate=0.05, max_depth=5, max_features=sqrt, n_estimators=200, subsample=0.8; total time=   0.2s\n",
      "[CV] END learning_rate=0.05, max_depth=5, max_features=sqrt, n_estimators=200, subsample=0.8; total time=   0.2s\n",
      "[CV] END learning_rate=0.05, max_depth=10, max_features=log2, n_estimators=200, subsample=0.9; total time=   0.3s\n",
      "[CV] END learning_rate=0.05, max_depth=10, max_features=log2, n_estimators=200, subsample=0.9; total time=   0.3s\n",
      "[CV] END learning_rate=0.05, max_depth=5, max_features=sqrt, n_estimators=200, subsample=0.8; total time=   0.2s\n",
      "[CV] END learning_rate=0.05, max_depth=5, max_features=sqrt, n_estimators=200, subsample=0.8; total time=   0.2s\n",
      "[CV] END learning_rate=0.05, max_depth=5, max_features=sqrt, n_estimators=200, subsample=0.8; total time=   0.2s\n",
      "Best parameters: {'subsample': 0.8, 'n_estimators': 200, 'max_features': 'sqrt', 'max_depth': 5, 'learning_rate': 0.05}\n",
      "Best cross-validation score: 0.8902299215586528\n",
      "Validation RMSE (log-scale): 0.1408\n"
     ]
    }
   ],
   "source": [
    "# fit the model with RandomizedSearchCV\n",
    "random_search.fit(X_train_encoded, y_train)\n",
    "\n",
    "# print the best parameters and best score\n",
    "print('Best parameters:', random_search.best_params_)\n",
    "print('Best cross-validation score:', random_search.best_score_)\n",
    "\n",
    "# use the best estimator to make predictions\n",
    "best_gb_model = random_search.best_estimator_\n",
    "\n",
    "# predict on the validation set\n",
    "val_preds_log = best_gb_model.predict(X_val_encoded)\n",
    "\n",
    "# evaluate the performance using RMSE\n",
    "val_rmse_log = np.sqrt(mean_squared_error(y_val, val_preds_log))\n",
    "print(f'Validation RMSE (log-scale): {val_rmse_log:.4f}')\n"
   ]
  },
  {
   "cell_type": "code",
   "execution_count": 6,
   "metadata": {},
   "outputs": [
    {
     "name": "stdout",
     "output_type": "stream",
     "text": [
      "Validation RMSE (log-reversed): 29,577.51\n"
     ]
    }
   ],
   "source": [
    "# convert predictions back from log scale to actual values\n",
    "val_preds_actual = np.expm1(val_preds_log)\n",
    "y_val_actual = np.expm1(y_val)\n",
    "\n",
    "# compute RMSE for the actual values (log-reversed)\n",
    "val_rmse_actual = np.sqrt(mean_squared_error(y_val_actual, val_preds_actual))\n",
    "print(f'Validation RMSE (log-reversed): {val_rmse_actual:,.2f}')"
   ]
  },
  {
   "cell_type": "markdown",
   "metadata": {},
   "source": [
    "This model would be off target by about 29,577.51 USD which is an improvement over 30,790.01 before hyperparam tuning. "
   ]
  },
  {
   "cell_type": "markdown",
   "metadata": {},
   "source": [
    "# Test Dataset"
   ]
  },
  {
   "cell_type": "code",
   "execution_count": 7,
   "metadata": {},
   "outputs": [],
   "source": [
    "testDF = pd.read_csv('../data/raw/test.csv')"
   ]
  },
  {
   "cell_type": "code",
   "execution_count": 8,
   "metadata": {},
   "outputs": [],
   "source": [
    "# Fill missing values in categorical columns\n",
    "testDF[cat_cols] = testDF[cat_cols].fillna('N/A')\n",
    "\n",
    "# Fill missing values in numeric columns with median\n",
    "num_cols = testDF.select_dtypes(include=[np.number]).columns\n",
    "testDF[num_cols] = testDF[num_cols].fillna(testDF[num_cols].median())\n",
    "\n",
    "# One-hot encode\n",
    "test_encoded = pd.get_dummies(testDF, drop_first=True)\n",
    "\n",
    "# Align columns with training set\n",
    "test_encoded = test_encoded.reindex(columns=X_train_encoded.columns, fill_value=0)\n",
    "\n",
    "# Predict\n",
    "test_preds_log = best_gb_model.predict(test_encoded)\n",
    "test_preds_actual = np.expm1(test_preds_log)"
   ]
  }
 ],
 "metadata": {
  "kernelspec": {
   "display_name": "base",
   "language": "python",
   "name": "python3"
  },
  "language_info": {
   "codemirror_mode": {
    "name": "ipython",
    "version": 3
   },
   "file_extension": ".py",
   "mimetype": "text/x-python",
   "name": "python",
   "nbconvert_exporter": "python",
   "pygments_lexer": "ipython3",
   "version": "3.12.7"
  }
 },
 "nbformat": 4,
 "nbformat_minor": 2
}
